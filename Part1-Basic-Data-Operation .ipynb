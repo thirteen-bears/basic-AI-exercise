{
 "cells": [
  {
   "cell_type": "markdown",
   "id": "0278b313",
   "metadata": {},
   "source": [
    "# Basic Data Operation \n",
    "`update date: 07/08/2021`\n",
    "\n",
    "`Author: thirteen-bears`\n",
    "\n",
    "`Based on d2l`"
   ]
  },
  {
   "cell_type": "markdown",
   "id": "00bd21c0",
   "metadata": {},
   "source": [
    "## Build Arrays"
   ]
  },
  {
   "cell_type": "code",
   "execution_count": 11,
   "id": "c636273c",
   "metadata": {},
   "outputs": [],
   "source": [
    "import torch # \"ctrl+enter\" to run the cell"
   ]
  },
  {
   "cell_type": "code",
   "execution_count": 59,
   "id": "3551c8f8",
   "metadata": {},
   "outputs": [
    {
     "data": {
      "text/plain": [
       "tensor([ 0,  1,  2,  3,  4,  5,  6,  7,  8,  9, 10, 11])"
      ]
     },
     "execution_count": 59,
     "metadata": {},
     "output_type": "execute_result"
    }
   ],
   "source": [
    "x = torch.arange(12)\n",
    "x"
   ]
  },
  {
   "cell_type": "code",
   "execution_count": 60,
   "id": "ee55ba75",
   "metadata": {},
   "outputs": [
    {
     "data": {
      "text/plain": [
       "torch.Size([12])"
      ]
     },
     "execution_count": 60,
     "metadata": {},
     "output_type": "execute_result"
    }
   ],
   "source": [
    "x.shape"
   ]
  },
  {
   "cell_type": "code",
   "execution_count": 14,
   "id": "afb97c94",
   "metadata": {},
   "outputs": [
    {
     "data": {
      "text/plain": [
       "12"
      ]
     },
     "execution_count": 14,
     "metadata": {},
     "output_type": "execute_result"
    }
   ],
   "source": [
    "x.numel() #number of element"
   ]
  },
  {
   "cell_type": "code",
   "execution_count": 15,
   "id": "3b9db06b",
   "metadata": {},
   "outputs": [
    {
     "data": {
      "text/plain": [
       "tensor([[ 0,  1,  2,  3],\n",
       "        [ 4,  5,  6,  7],\n",
       "        [ 8,  9, 10, 11]])"
      ]
     },
     "execution_count": 15,
     "metadata": {},
     "output_type": "execute_result"
    }
   ],
   "source": [
    "X = x.reshape(3,4)\n",
    "X"
   ]
  },
  {
   "cell_type": "code",
   "execution_count": 26,
   "id": "d3d4b4b7",
   "metadata": {},
   "outputs": [
    {
     "data": {
      "text/plain": [
       "tensor([[[0., 0., 0., 0.],\n",
       "         [0., 0., 0., 0.],\n",
       "         [0., 0., 0., 0.]],\n",
       "\n",
       "        [[0., 0., 0., 0.],\n",
       "         [0., 0., 0., 0.],\n",
       "         [0., 0., 0., 0.]]])"
      ]
     },
     "execution_count": 26,
     "metadata": {},
     "output_type": "execute_result"
    }
   ],
   "source": [
    "torch.zeros((2,3,4))"
   ]
  },
  {
   "cell_type": "code",
   "execution_count": 25,
   "id": "1c7f9112",
   "metadata": {},
   "outputs": [
    {
     "data": {
      "text/plain": [
       "torch.Size([4, 3])"
      ]
     },
     "execution_count": 25,
     "metadata": {},
     "output_type": "execute_result"
    }
   ],
   "source": [
    "torch.tensor([[1,2,3],[2,3,4],[3,4,1],[4,1,2]])\n",
    "torch.tensor([[1,2,3],[2,3,4],[3,4,1],[4,1,2]]).shape"
   ]
  },
  {
   "cell_type": "code",
   "execution_count": 24,
   "id": "b98a66b8",
   "metadata": {},
   "outputs": [
    {
     "data": {
      "text/plain": [
       "torch.Size([1, 4, 3])"
      ]
     },
     "execution_count": 24,
     "metadata": {},
     "output_type": "execute_result"
    }
   ],
   "source": [
    "torch.tensor([[[1,2,3],[2,3,4],[3,4,1],[4,1,2]]])\n",
    "torch.tensor([[[1,2,3],[2,3,4],[3,4,1],[4,1,2]]]).shape"
   ]
  },
  {
   "cell_type": "markdown",
   "id": "aa1d0344",
   "metadata": {},
   "source": [
    "## Basic data operation"
   ]
  },
  {
   "cell_type": "code",
   "execution_count": 28,
   "id": "57fd6a9a",
   "metadata": {},
   "outputs": [
    {
     "data": {
      "text/plain": [
       "(tensor([ 3.,  4.,  6., 10.]),\n",
       " tensor([-1.,  0.,  2.,  6.]),\n",
       " tensor([ 2.,  4.,  8., 16.]),\n",
       " tensor([0.5000, 1.0000, 2.0000, 4.0000]),\n",
       " tensor([ 1.,  4., 16., 64.]))"
      ]
     },
     "execution_count": 28,
     "metadata": {},
     "output_type": "execute_result"
    }
   ],
   "source": [
    "x = torch.tensor([1.0,2,4,8]) #1.0 to generate float\n",
    "y = torch.tensor([2,2,2,2])\n",
    "x+y,x-y,x*y,x/y,x**y"
   ]
  },
  {
   "cell_type": "code",
   "execution_count": 33,
   "id": "5f629446",
   "metadata": {},
   "outputs": [
    {
     "data": {
      "text/plain": [
       "(tensor([[ 0.,  1.,  2.,  3.],\n",
       "         [ 4.,  5.,  6.,  7.],\n",
       "         [ 8.,  9., 10., 11.]]),\n",
       " tensor([[1., 2., 3., 4.],\n",
       "         [2., 3., 4., 1.],\n",
       "         [3., 4., 1., 2.]]))"
      ]
     },
     "execution_count": 33,
     "metadata": {},
     "output_type": "execute_result"
    }
   ],
   "source": [
    "X = torch.arange(12,dtype = torch.float32).reshape(3,4)\n",
    "Y = torch.tensor([[1.0,2,3,4],[2,3,4,1],[3,4,1,2]])\n",
    "X,Y"
   ]
  },
  {
   "cell_type": "code",
   "execution_count": 35,
   "id": "e4bb1744",
   "metadata": {},
   "outputs": [
    {
     "data": {
      "text/plain": [
       "(tensor([[ 0.,  1.,  2.,  3.],\n",
       "         [ 4.,  5.,  6.,  7.],\n",
       "         [ 8.,  9., 10., 11.],\n",
       "         [ 1.,  2.,  3.,  4.],\n",
       "         [ 2.,  3.,  4.,  1.],\n",
       "         [ 3.,  4.,  1.,  2.]]),\n",
       " tensor([[ 0.,  1.,  2.,  3.,  1.,  2.,  3.,  4.],\n",
       "         [ 4.,  5.,  6.,  7.,  2.,  3.,  4.,  1.],\n",
       "         [ 8.,  9., 10., 11.,  3.,  4.,  1.,  2.]]))"
      ]
     },
     "execution_count": 35,
     "metadata": {},
     "output_type": "execute_result"
    }
   ],
   "source": [
    "torch.cat((X,Y),dim=0),torch.cat((X,Y),dim=1)\n",
    "# dim = 0 : keep row the same, add to column (stack up)\n",
    "# dim = 1 : keep col the same, add to row"
   ]
  },
  {
   "cell_type": "code",
   "execution_count": 36,
   "id": "331e9ab2",
   "metadata": {},
   "outputs": [
    {
     "data": {
      "text/plain": [
       "tensor([[False, False, False, False],\n",
       "        [False, False, False, False],\n",
       "        [False, False, False, False]])"
      ]
     },
     "execution_count": 36,
     "metadata": {},
     "output_type": "execute_result"
    }
   ],
   "source": [
    "X==Y # using logic to build a  tensor"
   ]
  },
  {
   "cell_type": "code",
   "execution_count": 37,
   "id": "4ebe8619",
   "metadata": {},
   "outputs": [
    {
     "data": {
      "text/plain": [
       "tensor(66.)"
      ]
     },
     "execution_count": 37,
     "metadata": {},
     "output_type": "execute_result"
    }
   ],
   "source": [
    "X.sum() # to one dim dimension"
   ]
  },
  {
   "cell_type": "markdown",
   "id": "0999d1f5",
   "metadata": {},
   "source": [
    "## Note:Broadcasting Mechanism"
   ]
  },
  {
   "cell_type": "code",
   "execution_count": 39,
   "id": "209e8743",
   "metadata": {},
   "outputs": [
    {
     "data": {
      "text/plain": [
       "(tensor([[0],\n",
       "         [1],\n",
       "         [2]]),\n",
       " tensor([[0, 1]]))"
      ]
     },
     "execution_count": 39,
     "metadata": {},
     "output_type": "execute_result"
    }
   ],
   "source": [
    "a = torch.arange(3).reshape((3,1))\n",
    "b = torch.arange(2).reshape((1,2))\n",
    "a,b"
   ]
  },
  {
   "cell_type": "markdown",
   "id": "3ac557da",
   "metadata": {},
   "source": [
    "- Pre-condition: same dimension: both are two dimension\n",
    "- The column of a = the row of b\n",
    "- a->(3,2) duplicate\n",
    "- b->(3,2) duplicate"
   ]
  },
  {
   "cell_type": "code",
   "execution_count": 40,
   "id": "988fce0c",
   "metadata": {},
   "outputs": [
    {
     "data": {
      "text/plain": [
       "tensor([[0, 1],\n",
       "        [1, 2],\n",
       "        [2, 3]])"
      ]
     },
     "execution_count": 40,
     "metadata": {},
     "output_type": "execute_result"
    }
   ],
   "source": [
    "a+b"
   ]
  },
  {
   "cell_type": "markdown",
   "id": "0c7d7067",
   "metadata": {},
   "source": [
    "## Change the value of array"
   ]
  },
  {
   "cell_type": "code",
   "execution_count": 46,
   "id": "13df32b0",
   "metadata": {},
   "outputs": [
    {
     "data": {
      "text/plain": [
       "tensor([[ 0.,  1.,  2.,  3.],\n",
       "        [ 4.,  5.,  6.,  7.],\n",
       "        [ 8.,  9., 10., 11.]])"
      ]
     },
     "execution_count": 46,
     "metadata": {},
     "output_type": "execute_result"
    }
   ],
   "source": [
    "X = torch.arange(12,dtype = torch.float32).reshape(3,4)\n",
    "X"
   ]
  },
  {
   "cell_type": "code",
   "execution_count": 43,
   "id": "27a09768",
   "metadata": {},
   "outputs": [
    {
     "data": {
      "text/plain": [
       "(tensor([ 8.,  9., 10., 11.]),\n",
       " tensor([[ 4.,  5.,  6.,  7.],\n",
       "         [ 8.,  9., 10., 11.]]))"
      ]
     },
     "execution_count": 43,
     "metadata": {},
     "output_type": "execute_result"
    }
   ],
   "source": [
    "X[-1],X[1:3] # final row, two rows"
   ]
  },
  {
   "cell_type": "code",
   "execution_count": 44,
   "id": "7590a47f",
   "metadata": {},
   "outputs": [
    {
     "data": {
      "text/plain": [
       "tensor([[ 0.,  1.,  2.,  3.],\n",
       "        [ 4.,  5.,  9.,  7.],\n",
       "        [ 8.,  9., 10., 11.]])"
      ]
     },
     "execution_count": 44,
     "metadata": {},
     "output_type": "execute_result"
    }
   ],
   "source": [
    "X[1,2] = 9 # change the value in X\n",
    "X"
   ]
  },
  {
   "cell_type": "code",
   "execution_count": 45,
   "id": "2ce02c24",
   "metadata": {},
   "outputs": [
    {
     "data": {
      "text/plain": [
       "tensor([[  0.,   1.,   2.,   3.],\n",
       "        [  4.,   5., 100.,   7.],\n",
       "        [  8.,   9., 100.,  11.]])"
      ]
     },
     "execution_count": 45,
     "metadata": {},
     "output_type": "execute_result"
    }
   ],
   "source": [
    "X[1:3,2] = 100 #change the values in a region\n",
    "X"
   ]
  },
  {
   "cell_type": "markdown",
   "id": "9011a60c",
   "metadata": {},
   "source": [
    "## Reallocate RAM"
   ]
  },
  {
   "cell_type": "code",
   "execution_count": 49,
   "id": "741da4dd",
   "metadata": {},
   "outputs": [
    {
     "data": {
      "text/plain": [
       "False"
      ]
     },
     "execution_count": 49,
     "metadata": {},
     "output_type": "execute_result"
    }
   ],
   "source": [
    "before = id(Y)\n",
    "Y =Y+X\n",
    "id(Y) == before  # the output means that the RAM of Y has been changed"
   ]
  },
  {
   "cell_type": "markdown",
   "id": "320dd1ce",
   "metadata": {},
   "source": [
    "How do we keep the RAM of Y as the same?"
   ]
  },
  {
   "cell_type": "markdown",
   "id": "0234738a",
   "metadata": {},
   "source": [
    "Method1:"
   ]
  },
  {
   "cell_type": "code",
   "execution_count": 52,
   "id": "93ae3cfd",
   "metadata": {},
   "outputs": [
    {
     "name": "stdout",
     "output_type": "stream",
     "text": [
      "id(Z): 140402537923712\n",
      "id(Z): 140402537923712\n",
      "id(Z): 140402537926144\n"
     ]
    }
   ],
   "source": [
    "Z = torch.zeros_like(Y)\n",
    "print('id(Z):',id(Z))\n",
    "\n",
    "Z[:] = X+Y\n",
    "print('id(Z):',id(Z)) # do not change the RAM of Z\n",
    "Z = X+Y\n",
    "print('id(Z):',id(Z)) # change the RAM of Z"
   ]
  },
  {
   "cell_type": "markdown",
   "id": "10db231a",
   "metadata": {},
   "source": [
    "Method2:"
   ]
  },
  {
   "cell_type": "code",
   "execution_count": 53,
   "id": "16e38868",
   "metadata": {},
   "outputs": [
    {
     "data": {
      "text/plain": [
       "True"
      ]
     },
     "execution_count": 53,
     "metadata": {},
     "output_type": "execute_result"
    }
   ],
   "source": [
    "before = id(X)\n",
    "X+=Y  # here can save RAM\n",
    "id(X)== before"
   ]
  },
  {
   "cell_type": "markdown",
   "id": "7b0d8f70",
   "metadata": {},
   "source": [
    "## Convert to Numpy"
   ]
  },
  {
   "cell_type": "markdown",
   "id": "6a7fa69c",
   "metadata": {},
   "source": [
    "Tensor <-> Numpy"
   ]
  },
  {
   "cell_type": "code",
   "execution_count": 61,
   "id": "de2f79ab",
   "metadata": {},
   "outputs": [
    {
     "data": {
      "text/plain": [
       "(numpy.ndarray, torch.Tensor)"
      ]
     },
     "execution_count": 61,
     "metadata": {},
     "output_type": "execute_result"
    }
   ],
   "source": [
    "A = X.numpy()\n",
    "B = torch.tensor(A)\n",
    "type(A),type(B) # use \"type\" to get type "
   ]
  },
  {
   "cell_type": "markdown",
   "id": "163a28e4",
   "metadata": {},
   "source": [
    "Special case: the size of tensor == 1"
   ]
  },
  {
   "cell_type": "code",
   "execution_count": 56,
   "id": "1d1babdb",
   "metadata": {},
   "outputs": [
    {
     "data": {
      "text/plain": [
       "(tensor([3.5000]), 3.5, 3.5, 3)"
      ]
     },
     "execution_count": 56,
     "metadata": {},
     "output_type": "execute_result"
    }
   ],
   "source": [
    "a = torch.tensor([3.5])\n",
    "a,a.item(),float(a),int(a)"
   ]
  },
  {
   "cell_type": "markdown",
   "id": "1fd7f35d",
   "metadata": {},
   "source": [
    "## Q&A"
   ]
  },
  {
   "cell_type": "code",
   "execution_count": 58,
   "id": "cde484ff",
   "metadata": {},
   "outputs": [
    {
     "data": {
      "text/plain": [
       "tensor([2, 2, 2, 2, 2, 2, 2, 2, 2, 2, 2, 2])"
      ]
     },
     "execution_count": 58,
     "metadata": {},
     "output_type": "execute_result"
    }
   ],
   "source": [
    "a = torch.arange(12)\n",
    "b = a.reshape((3,4))\n",
    "b[:] = 2\n",
    "a"
   ]
  }
 ],
 "metadata": {
  "kernelspec": {
   "display_name": "Python 3",
   "language": "python",
   "name": "python3"
  },
  "language_info": {
   "codemirror_mode": {
    "name": "ipython",
    "version": 3
   },
   "file_extension": ".py",
   "mimetype": "text/x-python",
   "name": "python",
   "nbconvert_exporter": "python",
   "pygments_lexer": "ipython3",
   "version": "3.8.8"
  }
 },
 "nbformat": 4,
 "nbformat_minor": 5
}
