{
 "cells": [
  {
   "cell_type": "markdown",
   "id": "4be79ec9",
   "metadata": {},
   "source": [
    "## 注意力分数\n",
    "- 回顾：注意力权重+注意力分数\n",
    "- ![softmax-description](./imgs/65-2.png)\n",
    "- ![softmax-description](./imgs/65-1.png)\n",
    "\n",
    "## 拓展到高维度\n",
    "- key和value的维度不一定相同\n",
    "- ![softmax-description](./imgs/65-3.png)\n",
    "\n",
    "## Additive Attention\n",
    "- ![softmax-description](./imgs/65-4.png)\n",
    "\n",
    "## Scaled Dot-Product Attention\n",
    "\n",
    "## 总结\n",
    "- 注意力"
   ]
  },
  {
   "cell_type": "code",
   "execution_count": 1,
   "id": "6bee87be",
   "metadata": {},
   "outputs": [],
   "source": [
    "import torch\n",
    "from torch import nn\n",
    "import d2l"
   ]
  },
  {
   "cell_type": "code",
   "execution_count": 2,
   "id": "ef1c1d1d",
   "metadata": {},
   "outputs": [],
   "source": [
    "# 遮蔽softmax操作\n",
    "def masked_softmax(X, valid_lens):\n",
    "    \"\"\"通过在最后一个轴上遮蔽元素来执行 softmax 操作\"\"\"\n",
    "    # `X`: 3D张量, `valid_lens`: 1D或2D 张量\n",
    "    if valid_lens is None:\n",
    "        return nn.functional.softmax(X, dim=-1)\n",
    "    else:\n",
    "        shape = X.shape\n",
    "        if valid_lens.dim() == 1:\n",
    "            # repeat_interleave: repeated tensor which has the same shape as input, except along the given axis.\n",
    "            valid_lens = torch.repeat_interleave(valid_lens, shape[1])\n",
    "        else:\n",
    "            valid_lens = valid_lens.reshape(-1)\n",
    "        # 在最后的轴上，被遮蔽的元素使用一个非常大的负值替换，从而其 softmax (指数)输出为 0\n",
    "        X = d2l.sequence_mask(\n",
    "            X.reshape(-1, shape[-1]), valid_lens,\n",
    "                              value=-1e6)\n",
    "        return nn.functional.softmax(X.reshape(shape), dim=-1)"
   ]
  },
  {
   "cell_type": "code",
   "execution_count": 3,
   "id": "20d639b5",
   "metadata": {},
   "outputs": [
    {
     "data": {
      "text/plain": [
       "tensor([[[0.5619, 0.4381, 0.0000, 0.0000],\n",
       "         [0.4803, 0.5197, 0.0000, 0.0000]],\n",
       "\n",
       "        [[0.3957, 0.2597, 0.3446, 0.0000],\n",
       "         [0.3613, 0.3236, 0.3150, 0.0000]]])"
      ]
     },
     "execution_count": 3,
     "metadata": {},
     "output_type": "execute_result"
    }
   ],
   "source": [
    "masked_softmax(torch.rand(2, 2, 4), torch.tensor([2, 3]))"
   ]
  },
  {
   "cell_type": "code",
   "execution_count": 4,
   "id": "8960e8df",
   "metadata": {},
   "outputs": [
    {
     "data": {
      "text/plain": [
       "tensor([[[1.0000, 0.0000, 0.0000, 0.0000],\n",
       "         [0.2565, 0.2286, 0.5149, 0.0000]],\n",
       "\n",
       "        [[0.5116, 0.4884, 0.0000, 0.0000],\n",
       "         [0.3399, 0.2703, 0.1819, 0.2079]]])"
      ]
     },
     "execution_count": 4,
     "metadata": {},
     "output_type": "execute_result"
    }
   ],
   "source": [
    "masked_softmax(torch.rand(2, 2, 4), torch.tensor([[1, 3], [2, 4]]))"
   ]
  },
  {
   "cell_type": "code",
   "execution_count": 5,
   "id": "50fe0538",
   "metadata": {},
   "outputs": [
    {
     "data": {
      "text/plain": [
       "tensor([[[ 4.5000]],\n",
       "\n",
       "        [[14.5000]]])"
      ]
     },
     "execution_count": 5,
     "metadata": {},
     "output_type": "execute_result"
    }
   ],
   "source": [
    "weights = torch.ones((2, 10)) * 0.1\n",
    "values = torch.arange(20.0).reshape((2, 10))\n",
    "torch.bmm(weights.unsqueeze(1), values.unsqueeze(-1))"
   ]
  },
  {
   "cell_type": "code",
   "execution_count": null,
   "id": "d1a1aebe",
   "metadata": {},
   "outputs": [],
   "source": [
    "class NWKernelRegression(nn.Module):\n",
    "    def __init__(self, **kwargs):\n",
    "        super().__init__(**kwargs)\n",
    "        # 在数学上，w用于控制高斯核窗口的大小(是否平滑)\n",
    "        self.w = nn.Parameter(torch.rand((1,), requires_grad=True))\n",
    "\n",
    "    def forward(self, queries, keys, values):\n",
    "        # `queries` 和 `attention_weights` 的形状为 (查询个数, “键－值”对个数)\n",
    "        queries = queries.repeat_interleave(keys.shape[1]).reshape((-1, keys.shape[1]))\n",
    "        self.attention_weights = nn.functional.softmax(\n",
    "            -((queries - keys) * self.w)**2 / 2, dim=1)\n",
    "        # `values` 的形状为 (查询个数, “键－值”对个数)\n",
    "        return torch.bmm(self.attention_weights.unsqueeze(1),\n",
    "                         values.unsqueeze(-1)).reshape(-1)"
   ]
  }
 ],
 "metadata": {
  "kernelspec": {
   "display_name": "Python 3",
   "language": "python",
   "name": "python3"
  },
  "language_info": {
   "codemirror_mode": {
    "name": "ipython",
    "version": 3
   },
   "file_extension": ".py",
   "mimetype": "text/x-python",
   "name": "python",
   "nbconvert_exporter": "python",
   "pygments_lexer": "ipython3",
   "version": "3.8.8"
  }
 },
 "nbformat": 4,
 "nbformat_minor": 5
}
