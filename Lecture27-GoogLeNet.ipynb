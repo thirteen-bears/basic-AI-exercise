{
 "cells": [
  {
   "cell_type": "markdown",
   "id": "9c7c2457",
   "metadata": {},
   "source": [
    "## Inception块\n",
    "问题：如何选择合适的卷积层超参数？\n",
    "思路：全都要！\n",
    "\n",
    "4个路径从不同层面抽取信息，然后在**输出通道维度**进行合并\n",
    "(因为各个路径的输出的高宽不变)\n",
    "\n",
    "改变的是输出通道数\n",
    "![softmax-description](./imgs/27-1.png)\n",
    "\n",
    "## 仔细看每个通道的输出\n",
    "- 比如第2个通道先把通道数压到96来降低模型的复杂度。\n",
    "- 蓝色的卷积用来抽取空间信息的，白色的卷积用来融合通道信息\n",
    "![softmax-description](./imgs/27-2.png)\n",
    "\n",
    "## Inception块\n",
    "对比3 * 3和5 * 5的卷积层，inception块有更少的参数个数和计算复杂度\n",
    "\n",
    "主要是因为其中有大量1 * 1的卷积\n",
    "![softmax-description](./imgs/27-3.png)"
   ]
  },
  {
   "cell_type": "markdown",
   "id": "0debcfd9",
   "metadata": {},
   "source": [
    "## 含并行连结的网络：GoogLeNet\n",
    "也是5个stage\n",
    "![softmax-description](./imgs/27-1.svg)\n",
    "\n",
    "### Stange 1 and 2\n",
    "更小的卷积层，更多的通道\n",
    "![softmax-description](./imgs/27-4.png)\n",
    "\n",
    "### Stange 3\n",
    "![softmax-description](./imgs/27-5.png)\n",
    "\n",
    "### Stange 4 and 5\n",
    "![softmax-description](./imgs/27-6.png)\n",
    "\n",
    "## GoogLeNet的变种\n",
    "- v2: + batch normalization\n",
    "- v3:修改了inception块和更深\n",
    "- v4:使用残差连接"
   ]
  },
  {
   "cell_type": "markdown",
   "id": "97604172",
   "metadata": {},
   "source": [
    "## 总结\n",
    "- Inception块用4条有不同超参数的卷积层和池化层的path来抽取不同的信息\n",
    "- 模型参数少，计算复杂度低\n",
    "- 第一个达到上百层的网络（不是深层的100，而是并行的100）"
   ]
  },
  {
   "cell_type": "code",
   "execution_count": null,
   "id": "5ebad310",
   "metadata": {},
   "outputs": [],
   "source": [
    "import torch\n",
    "from torch import nn\n",
    "from torch.nn import functional as F\n",
    "from d2l import torch as d2l\n",
    "\n",
    "\n",
    "class Inception(nn.Module):\n",
    "    # `c1`--`c4` 是每条路径的输出通道数\n",
    "    def __init__(self, in_channels, c1, c2, c3, c4, **kwargs):\n",
    "        super(Inception, self).__init__(**kwargs)\n",
    "        # 线路1，单1 x 1卷积层\n",
    "        self.p1_1 = nn.Conv2d(in_channels, c1, kernel_size=1)\n",
    "        # 线路2，1 x 1卷积层后接3 x 3卷积层\n",
    "        self.p2_1 = nn.Conv2d(in_channels, c2[0], kernel_size=1)\n",
    "        self.p2_2 = nn.Conv2d(c2[0], c2[1], kernel_size=3, padding=1)\n",
    "        # 线路3，1 x 1卷积层后接5 x 5卷积层\n",
    "        self.p3_1 = nn.Conv2d(in_channels, c3[0], kernel_size=1)\n",
    "        self.p3_2 = nn.Conv2d(c3[0], c3[1], kernel_size=5, padding=2)\n",
    "        # 线路4，3 x 3最大汇聚层后接1 x 1卷积层\n",
    "        self.p4_1 = nn.MaxPool2d(kernel_size=3, stride=1, padding=1)\n",
    "        self.p4_2 = nn.Conv2d(in_channels, c4, kernel_size=1)\n",
    "\n",
    "    def forward(self, x):\n",
    "        p1 = F.relu(self.p1_1(x))\n",
    "        p2 = F.relu(self.p2_2(F.relu(self.p2_1(x))))\n",
    "        p3 = F.relu(self.p3_2(F.relu(self.p3_1(x))))\n",
    "        p4 = F.relu(self.p4_2(self.p4_1(x)))\n",
    "        # 在通道维度上连结输出\n",
    "        return torch.cat((p1, p2, p3, p4), dim=1)"
   ]
  },
  {
   "cell_type": "code",
   "execution_count": null,
   "id": "4fdc064a",
   "metadata": {},
   "outputs": [],
   "source": [
    "b1 = nn.Sequential(nn.Conv2d(1, 64, kernel_size=7, stride=2, padding=3),\n",
    "                   nn.ReLU(),\n",
    "                   nn.MaxPool2d(kernel_size=3, stride=2, padding=1))"
   ]
  },
  {
   "cell_type": "code",
   "execution_count": null,
   "id": "0b46d31b",
   "metadata": {},
   "outputs": [],
   "source": [
    "b2 = nn.Sequential(nn.Conv2d(64, 64, kernel_size=1),\n",
    "                   nn.ReLU(),\n",
    "                   nn.Conv2d(64, 192, kernel_size=3, padding=1),\n",
    "                   nn.MaxPool2d(kernel_size=3, stride=2, padding=1))"
   ]
  },
  {
   "cell_type": "code",
   "execution_count": null,
   "id": "46106710",
   "metadata": {},
   "outputs": [],
   "source": [
    "b3 = nn.Sequential(Inception(192, 64, (96, 128), (16, 32), 32),\n",
    "                   Inception(256, 128, (128, 192), (32, 96), 64),\n",
    "                   nn.MaxPool2d(kernel_size=3, stride=2, padding=1))"
   ]
  },
  {
   "cell_type": "code",
   "execution_count": null,
   "id": "3ad2d972",
   "metadata": {},
   "outputs": [],
   "source": [
    "b4 = nn.Sequential(Inception(480, 192, (96, 208), (16, 48), 64),\n",
    "                   Inception(512, 160, (112, 224), (24, 64), 64),\n",
    "                   Inception(512, 128, (128, 256), (24, 64), 64),\n",
    "                   Inception(512, 112, (144, 288), (32, 64), 64),\n",
    "                   Inception(528, 256, (160, 320), (32, 128), 128),\n",
    "                   nn.MaxPool2d(kernel_size=3, stride=2, padding=1))"
   ]
  },
  {
   "cell_type": "code",
   "execution_count": null,
   "id": "21ecc53c",
   "metadata": {},
   "outputs": [],
   "source": [
    "b5 = nn.Sequential(Inception(832, 256, (160, 320), (32, 128), 128),\n",
    "                   Inception(832, 384, (192, 384), (48, 128), 128),\n",
    "                   nn.AdaptiveAvgPool2d((1,1)),\n",
    "                   nn.Flatten())\n",
    "\n",
    "net = nn.Sequential(b1, b2, b3, b4, b5, nn.Linear(1024, 10))"
   ]
  },
  {
   "cell_type": "code",
   "execution_count": null,
   "id": "3be0a7f5",
   "metadata": {},
   "outputs": [],
   "source": [
    "X = torch.rand(size=(1, 1, 96, 96))\n",
    "for layer in net:\n",
    "    X = layer(X)\n",
    "    print(layer.__class__.__name__,'output shape:\\t', X.shape)"
   ]
  },
  {
   "cell_type": "code",
   "execution_count": null,
   "id": "3728a725",
   "metadata": {},
   "outputs": [],
   "source": [
    "lr, num_epochs, batch_size = 0.1, 10, 128\n",
    "train_iter, test_iter = d2l.load_data_fashion_mnist(batch_size, resize=96)\n",
    "d2l.train_ch6(net, train_iter, test_iter, num_epochs, lr, d2l.try_gpu())"
   ]
  }
 ],
 "metadata": {
  "kernelspec": {
   "display_name": "Python 3",
   "language": "python",
   "name": "python3"
  },
  "language_info": {
   "codemirror_mode": {
    "name": "ipython",
    "version": 3
   },
   "file_extension": ".py",
   "mimetype": "text/x-python",
   "name": "python",
   "nbconvert_exporter": "python",
   "pygments_lexer": "ipython3",
   "version": "3.8.8"
  }
 },
 "nbformat": 4,
 "nbformat_minor": 5
}
