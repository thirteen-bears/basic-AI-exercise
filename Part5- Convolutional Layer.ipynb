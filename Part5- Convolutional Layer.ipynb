{
 "cells": [
  {
   "cell_type": "markdown",
   "id": "620e403d",
   "metadata": {},
   "source": [
    "## 从全连接层到卷积层\n",
    "1. 为什么要使用卷积层：\n",
    "单隐藏层LMP的缺点： 参数量过多：RGB图片有36M元素（输入时候需要拉伸为向量），则单隐藏层MLP有3.6B元素，远超过世界上所有的猫和狗的个数（900M狗，600M猫）\n",
    "2. 两个原则\n",
    "- 平移不变性\n",
    "- 局部性\n",
    "3. 重新考察全连接层\n",
    "全连接层：输入为m维度的向量，经过m* n的W矩阵，输出为n维度的向量。\n",
    "- 将输入输出变形为矩阵\n",
    "- 这样输入为$kl$，输出为$ij$,权重w的尺寸为$klij$\n",
    "\n",
    "我们重写kl,k=i+a,l=j+b，得到下图：\n",
    "- 将权重变为4d张量\n",
    "![softmax-description](./imgs/15-1.png)\n",
    "4. 将全连接层一步一步转化成卷积层\n",
    "- 平移不变性\n",
    "我们希望v不依赖于i,j\n",
    "希望$v_{i,j,a,b} = v_{a,b}$\n",
    "![softmax-description](./imgs/15-2.png)\n",
    "我们可以把卷积理解为“重复权重的全连接层”\n",
    "- 局部性：\n",
    "![softmax-description](./imgs/15-3.png)\n",
    "\n",
    "#### 总结：对全连接层使用平移不变性和局部性可以得到卷积层"
   ]
  },
  {
   "cell_type": "markdown",
   "id": "df2cd19d",
   "metadata": {},
   "source": [
    "## 卷积层\n",
    "- 二维卷积层：输入和kernel进行交叉相关，再加上偏移。\n",
    "![softmax-description](./imgs/15-4.png)\n",
    "- 注意：交叉相关和二维卷积没有本质区别\n",
    "- 一维：文本，语言，时间序列\n",
    "- 三维：视频，医学图像，气象图像"
   ]
  },
  {
   "cell_type": "code",
   "execution_count": 2,
   "id": "4233fbb0",
   "metadata": {},
   "outputs": [],
   "source": [
    "import torch\n",
    "from torch import nn\n",
    "from d2l import torch as d2l"
   ]
  },
  {
   "cell_type": "code",
   "execution_count": 3,
   "id": "b32f08b4",
   "metadata": {},
   "outputs": [],
   "source": [
    "# cross validation\n",
    "def corr2d(X,K):\n",
    "    h,w = K.shape \n",
    "    Y = torch.zeros(X.shape[0]-h+1,X.shape[1]-w+1) # the size of output\n",
    "    # begin convolutoin\n",
    "    for i in range(Y.shape[0]):\n",
    "        for j in range(Y.shape[1]):\n",
    "            Y[i,j] = (X[i:i+h,j:j+w]*K).sum()\n",
    "    return Y"
   ]
  },
  {
   "cell_type": "code",
   "execution_count": null,
   "id": "0b4f2b29",
   "metadata": {},
   "outputs": [],
   "source": [
    "# 2d conv layer\n",
    "class Conv2D(nn.Module):\n",
    "    def __init__():\n",
    "    \n",
    "    def forward(self,x):\n",
    "        re"
   ]
  },
  {
   "cell_type": "code",
   "execution_count": null,
   "id": "515dc228",
   "metadata": {},
   "outputs": [],
   "source": [
    "# Application:edge detection\n",
    "X = torch.ones((6,8))\n",
    "X[:,2:6] = 0\n",
    "x"
   ]
  },
  {
   "cell_type": "code",
   "execution_count": 4,
   "id": "8361bcc1",
   "metadata": {},
   "outputs": [],
   "source": [
    "# 垂直边缘检测算子哦，就，9\n",
    "K = torch.tensor([[1.0,-1.0]]) # 2dim"
   ]
  },
  {
   "cell_type": "code",
   "execution_count": null,
   "id": "ec7152b8",
   "metadata": {},
   "outputs": [],
   "source": [
    "Y = corr2d(X,X)"
   ]
  },
  {
   "cell_type": "code",
   "execution_count": null,
   "id": "20485255",
   "metadata": {},
   "outputs": [],
   "source": [
    "conv2d = nn.Conv2d(1,1,kernel_size = (1,2))"
   ]
  },
  {
   "cell_type": "code",
   "execution_count": null,
   "id": "c27dd6fb",
   "metadata": {},
   "outputs": [],
   "source": []
  }
 ],
 "metadata": {
  "kernelspec": {
   "display_name": "Python 3",
   "language": "python",
   "name": "python3"
  },
  "language_info": {
   "codemirror_mode": {
    "name": "ipython",
    "version": 3
   },
   "file_extension": ".py",
   "mimetype": "text/x-python",
   "name": "python",
   "nbconvert_exporter": "python",
   "pygments_lexer": "ipython3",
   "version": "3.8.8"
  }
 },
 "nbformat": 4,
 "nbformat_minor": 5
}
