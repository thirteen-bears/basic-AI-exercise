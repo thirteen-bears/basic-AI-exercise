{
 "cells": [
  {
   "cell_type": "markdown",
   "id": "854fb033",
   "metadata": {},
   "source": [
    "## Linear Regression\n",
    "Linear model can be viewed as **single layer neural network**.\n",
    "\n",
    "Optimal solution:\n",
    "$w^* = (X^T X)^{-1} Xy$\n",
    "![softmax-description](./imgs/3.png)\n"
   ]
  },
  {
   "cell_type": "markdown",
   "id": "864971e3",
   "metadata": {},
   "source": [
    "## Small Batch - Gradient Descent\n",
    "在整个训练集上计算梯度太贵\n",
    "\n",
    "我们可以随机采样b个样本，计算他们的平均损失\n",
    "\n",
    "Batchsize is another important parameter"
   ]
  },
  {
   "cell_type": "markdown",
   "id": "90bb9764",
   "metadata": {},
   "source": [
    "# Build Linear Regression From Scratch"
   ]
  },
  {
   "cell_type": "markdown",
   "id": "5249b044",
   "metadata": {},
   "source": [
    "## Build the dataset"
   ]
  },
  {
   "cell_type": "code",
   "execution_count": 54,
   "id": "0a16230d",
   "metadata": {},
   "outputs": [],
   "source": [
    "%matplotlib inline \n",
    "import torch\n",
    "import random"
   ]
  },
  {
   "cell_type": "markdown",
   "id": "837e3ad7",
   "metadata": {},
   "source": [
    "We generate a dataset:\n",
    "\n",
    "$y = Xw+b+\\sigma$ \n",
    "\n",
    "$w = [2,-3.4]^T, b= 4.2,\\sigma$ is the noise term"
   ]
  },
  {
   "cell_type": "code",
   "execution_count": 55,
   "id": "501159a9",
   "metadata": {},
   "outputs": [
    {
     "data": {
      "text/plain": [
       "(torch.Size([1000, 2]), torch.Size([1000, 1]))"
      ]
     },
     "execution_count": 55,
     "metadata": {},
     "output_type": "execute_result"
    }
   ],
   "source": [
    "def synthetic_data(w,b,num_examples):\n",
    "    X = torch.normal(0,1,(num_examples,len(w)))\n",
    "    y = torch.matmul(X,w)+b\n",
    "    y += torch.normal(0,0.01,y.shape)\n",
    "    return(X,y.reshape((-1,1))) # y.reshape((-1,1)) add one dimension\n",
    "    #return(X,y)\n",
    "true_w = torch.tensor([2,-3.4])\n",
    "true_b = 4.2\n",
    "features,labels = synthetic_data(true_w,true_b,1000)\n",
    "features.shape,labels.shape"
   ]
  },
  {
   "cell_type": "code",
   "execution_count": 56,
   "id": "dbe9a241",
   "metadata": {},
   "outputs": [
    {
     "name": "stdout",
     "output_type": "stream",
     "text": [
      "Feature: tensor([0.6366, 2.1951]) Label: tensor([-1.9886])\n"
     ]
    }
   ],
   "source": [
    "print('Feature:',features[0],'Label:',labels[0])"
   ]
  },
  {
   "cell_type": "code",
   "execution_count": 57,
   "id": "45d7a5b5",
   "metadata": {},
   "outputs": [
    {
     "data": {
      "text/plain": [
       "<matplotlib.collections.PathCollection at 0x7f9303fabcd0>"
      ]
     },
     "execution_count": 57,
     "metadata": {},
     "output_type": "execute_result"
    },
    {
     "data": {
      "image/png": "[encoded data removed]",
      "text/plain": [
       "<Figure size 432x288 with 1 Axes>"
      ]
     },
     "metadata": {
      "needs_background": "light"
     },
     "output_type": "display_data"
    }
   ],
   "source": [
    "import matplotlib.pyplot as plt\n",
    "# .detach() can be ignored sometimes\n",
    "plt.scatter(features[:,0].detach().numpy(),labels[:,0].detach().numpy()) \n",
    "plt.scatter(features[:,1].detach().numpy(),labels[:,0].detach().numpy())"
   ]
  },
  {
   "cell_type": "markdown",
   "id": "dd00d6c4",
   "metadata": {},
   "source": [
    "## Generate the training dataset\n",
    "**Funtion:data_iter**\n",
    "- input: batchsize,features,labels\n",
    "- output: small batches"
   ]
  },
  {
   "cell_type": "code",
   "execution_count": 58,
   "id": "c8e8a0a7",
   "metadata": {},
   "outputs": [],
   "source": [
    "def data_iter(batch_size,features,labels):\n",
    "    num_example = len(features)\n",
    "    indices = torch.arange(num_example)\n",
    "    random.shuffle(indices) # random\n",
    "    for i in range(0,num_example,batch_size):\n",
    "        batch_indices = indices[i:min(i+batch_size,num_example)]\n",
    "        yield features[batch_indices,:],labels[batch_indices,:]\n",
    "batch_size = 10\n",
    "# print one batch\n",
    "#for X,y in data_iter(batch_size,features,labels):\n",
    "    #print(X,'\\n',y)\n",
    "    #break"
   ]
  },
  {
   "cell_type": "code",
   "execution_count": 59,
   "id": "cbfc1c7b",
   "metadata": {},
   "outputs": [],
   "source": [
    "w = torch.normal(0,1,size = (2,1),requires_grad=True)\n",
    "b = torch.zeros(1,requires_grad=True)"
   ]
  },
  {
   "cell_type": "code",
   "execution_count": 8,
   "id": "30d93ad9",
   "metadata": {},
   "outputs": [],
   "source": [
    "def linreg(X,w,b):\n",
    "    return torch.matmul(X,w)+b"
   ]
  },
  {
   "cell_type": "code",
   "execution_count": 9,
   "id": "acb37d67",
   "metadata": {},
   "outputs": [],
   "source": [
    "def squared_loss(y_hat,y):\n",
    "    return (y_hat-y.reshape(y_hat.shape))**2/2"
   ]
  },
  {
   "cell_type": "code",
   "execution_count": 31,
   "id": "a931984a",
   "metadata": {},
   "outputs": [],
   "source": [
    "# define a sgd\n",
    "def sgd(params,lr,batch_size):\n",
    "    with torch.no_grad(): # here we do not need to calculate the gradient\n",
    "        for param in params:\n",
    "            # loss sums up all the batchsize, that is why we  divide by batch_size here \n",
    "            param -=lr*param.grad/batch_size \n",
    "            param.grad.zero_()  # set grad to zero "
   ]
  },
  {
   "cell_type": "markdown",
   "id": "a051da39",
   "metadata": {},
   "source": [
    "## Begin to Train\n",
    "线性回归训练过程原理如下：\n",
    "![train-principle](./imgs/2.png)"
   ]
  },
  {
   "cell_type": "code",
   "execution_count": 22,
   "id": "34995cdb",
   "metadata": {},
   "outputs": [
    {
     "name": "stdout",
     "output_type": "stream",
     "text": [
      "epoch: 1 loss: tensor(10.2155)\n",
      "epoch 1,loss 0.010215\n",
      "epoch: 2 loss: tensor(1.5236)\n",
      "epoch 2,loss 0.001524\n",
      "epoch: 3 loss: tensor(0.3002)\n",
      "epoch 3,loss 0.000300\n"
     ]
    }
   ],
   "source": [
    "# rerun the cell will generate loss = Nan. Reason: w,b have not be initilaized\n",
    "lr = 0.01\n",
    "num_epochs = 3\n",
    "net = linreg\n",
    "loss = squared_loss\n",
    "for epoch in range(num_epochs):\n",
    "    for X,y in data_iter(batch_size,features,labels):\n",
    "        l = loss(net(X,w,b),y) #size of l: (batch_size,1)\n",
    "        l.sum().backward()\n",
    "        sgd([w,b],lr,batch_size)\n",
    "    with torch.no_grad():\n",
    "        train_1 = loss(net(features,w,b),labels)\n",
    "        print('epoch:',epoch+1,'loss:',train_1.sum())\n",
    "        print(f'epoch {epoch+1},loss {float(train_1.mean()):f}')"
   ]
  },
  {
   "cell_type": "markdown",
   "id": "a259b130",
   "metadata": {},
   "source": [
    "# Build Linear Regression using torch.nn"
   ]
  },
  {
   "cell_type": "code",
   "execution_count": 60,
   "id": "d3a5d6f8",
   "metadata": {},
   "outputs": [],
   "source": [
    "import torch.nn as nn\n",
    "from torch.utils import data\n",
    "import numpy as np"
   ]
  },
  {
   "cell_type": "code",
   "execution_count": 63,
   "id": "74a9d41e",
   "metadata": {},
   "outputs": [],
   "source": [
    "net = nn.Sequential(nn.Linear(2,1))\n",
    "net[0].weight.data.normal_(0,0.01)\n",
    "net[0].bias.data.fill_(0)\n",
    "\n",
    "trainer = torch.optim.SGD(net.parameters(),lr = 0.03)"
   ]
  },
  {
   "cell_type": "code",
   "execution_count": 64,
   "id": "196d2807",
   "metadata": {},
   "outputs": [],
   "source": [
    "def load_array(data_arrays,batch_size,is_train = True):\n",
    "    dataset= data.TensorDataset(*data_arrays)\n",
    "    return data.DataLoader(dataset,batch_size,shuffle=is_train)\n",
    "data_iter = load_array((features,labels),batch_size)"
   ]
  },
  {
   "cell_type": "code",
   "execution_count": 76,
   "id": "8ba14fe5",
   "metadata": {},
   "outputs": [
    {
     "name": "stdout",
     "output_type": "stream",
     "text": [
      "epoch 1, loss 0.000107\n",
      "epoch 2, loss 0.000106\n",
      "epoch 3, loss 0.000108\n"
     ]
    }
   ],
   "source": [
    "lr = 0.00001\n",
    "num_epochs = 3\n",
    "batch_size = 10\n",
    "loss = nn.MSELoss()\n",
    "for epoch in range(num_epochs):\n",
    "    for X,y in data_iter:\n",
    "        l = loss(net(X),y) #size of l: (batch_size,1)\n",
    "        \n",
    "        trainer.zero_grad()\n",
    "        l.backward()\n",
    "        trainer.step()\n",
    "    l = loss(net(features),labels)\n",
    "    print(f'epoch {epoch+1}, loss {l:f}')"
   ]
  }
 ],
 "metadata": {
  "kernelspec": {
   "display_name": "Python 3",
   "language": "python",
   "name": "python3"
  },
  "language_info": {
   "codemirror_mode": {
    "name": "ipython",
    "version": 3
   },
   "file_extension": ".py",
   "mimetype": "text/x-python",
   "name": "python",
   "nbconvert_exporter": "python",
   "pygments_lexer": "ipython3",
   "version": "3.8.8"
  }
 },
 "nbformat": 4,
 "nbformat_minor": 5
}
