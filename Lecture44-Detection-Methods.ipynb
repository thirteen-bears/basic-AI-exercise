{
 "cells": [
  {
   "cell_type": "markdown",
   "id": "1b041e82",
   "metadata": {},
   "source": [
    "## R-CNN\n",
    "![softmax-description](./imgs/44-1.png)\n",
    "- 使用启发式搜索算法\n",
    "- 使用预训练模型来对每个锚框抽取特征\n",
    "\n",
    "## RoI pooling (region of interest)\n",
    "- 给定一个锚框，均匀分割成nxm块，输出每块的最大值\n",
    "- 不管锚框多大，总是输出nm个值 \n",
    "- 这样每个锚框经过pooling之后的输出尺寸就相同，可以进行batch处理\n",
    "![softmax-description](./imgs/44-2.png)\n",
    "\n",
    "## Fast-RCNN\n",
    "原来的缺陷：\n",
    "- 之前是对每个anchor抽特征，因为anchor多，所以计算量大。\n",
    "\n",
    "Fast-RCNN的改进：\n",
    "- 使用CNN对整张图片（而不是每个锚框）抽取特征。\n",
    "- 把锚框**映射**到CNN的输出上。\n",
    "- 再使用RoI池化层对每个锚框生成固定长度的特征\n",
    "![softmax-description](./imgs/44-3.png)\n",
    "\n",
    "## Faster-RCNN\n",
    "- 使用一个区域提议网络（RPN:region proposal network）来替代启发式搜索(selective search)来获得更好的锚框\n",
    "- RPN对锚框进行二分类，判断锚框的质量\n",
    "- RPN可以理解为一个粗糙一点的目标检测算法\n",
    "- NMS为非最大抑制（non maximum suppression）\n",
    "![softmax-description](./imgs/44-4.png)\n",
    "\n",
    "## Mask R-CNN\n",
    "- 如果有pixel level的label，可以用FCN来利用这些信息\n",
    "- 加了FCN和mask prediction\n",
    "- RoI pooling变成RoI align\n",
    "- RoI pooling: 3X3区域和2x2的pooling,RoI pooling会有像素级别的偏移，边界的地方label预测可能会不准确\n",
    "- RoI align: 3X3区域可以切开像素进行加权取值。目的：防止像素错位。\n",
    "![softmax-description](./imgs/44-5.png)\n",
    "\n",
    "## 总结\n",
    "- RCNN是最早和最有名的基于锚框和CNN的目标检测算法\n",
    "- Faster/Fast R-CNN持续提升性能\n",
    "- Faster R-CNN和Mask R-CNN是在高精度场景下的常用算法"
   ]
  },
  {
   "cell_type": "markdown",
   "id": "84fd8d4a",
   "metadata": {},
   "source": [
    "## Single Shot Detection (SSD) 单发多框检测\n",
    "- 在Lecture42中，我们已知对每个像素，生成多个以它为中心的多个锚框\n",
    "- 一个基础的网络来抽取特征（Base network）\n",
    "- 对每一个像素去生成锚框（Anchor box）\n",
    "- 对Anchor box进行Category prediction:是否含有物体，如果有:则计算真实边界框的offset(bounding box prediction)\n",
    "- 在每一段都生成锚框:底部段用来拟合小物体，顶部段用来拟合大物体\n",
    "- 对每个锚框预测类别和边缘框\n",
    "![softmax-description](./imgs/44-6.png)\n",
    "\n",
    "- SSD精度不高，但是比R-CNN相对简单，它的思想启发了后续的一系列工作\n",
    "\n",
    "## 总结\n",
    "SSD的3个思想:\n",
    "- SSD通过单神经网络来检测模型\n",
    "- 以每个像素为中心产生多个锚框\n",
    "- 在多个段的输出上进行多尺度的检测"
   ]
  },
  {
   "cell_type": "markdown",
   "id": "67c1a0aa",
   "metadata": {},
   "source": [
    "## YOLO\n",
    "- SSD中锚框大量重叠，因此浪费了很多时间\n",
    "- YOLO将图片均匀分成了SXS个锚框 （如下图所示，生成了4x6个边缘框）\n",
    "- 每个锚框预测B个边缘框 (因为可能有一个锚框包含多个物体:因此对每个锚框，对每个物体都预测)\n",
    "- 后续版本V2,V3,V4...有持续改进\n",
    "![softmax-description](./imgs/44-7.png)"
   ]
  }
 ],
 "metadata": {
  "kernelspec": {
   "display_name": "Python 3",
   "language": "python",
   "name": "python3"
  },
  "language_info": {
   "codemirror_mode": {
    "name": "ipython",
    "version": 3
   },
   "file_extension": ".py",
   "mimetype": "text/x-python",
   "name": "python",
   "nbconvert_exporter": "python",
   "pygments_lexer": "ipython3",
   "version": "3.8.8"
  }
 },
 "nbformat": 4,
 "nbformat_minor": 5
}
