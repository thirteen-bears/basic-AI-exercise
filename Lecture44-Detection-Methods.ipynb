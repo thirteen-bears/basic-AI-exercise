{
 "cells": [
  {
   "cell_type": "markdown",
   "id": "0a435ca4",
   "metadata": {},
   "source": [
    "# 区域目标检测算法\n"
   ]
  },
  {
   "cell_type": "markdown",
   "id": "1b041e82",
   "metadata": {},
   "source": [
    "## R-CNN\n",
    "- 使用启发式搜索算法\n",
    "- 使用预训练模型来对每个锚框抽取特征"
   ]
  },
  {
   "cell_type": "markdown",
   "id": "84fd8d4a",
   "metadata": {},
   "source": []
  },
  {
   "cell_type": "markdown",
   "id": "b1b0af7d",
   "metadata": {},
   "source": []
  },
  {
   "cell_type": "code",
   "execution_count": null,
   "id": "07c7a7b4",
   "metadata": {},
   "outputs": [],
   "source": []
  },
  {
   "cell_type": "code",
   "execution_count": null,
   "id": "ee89c157",
   "metadata": {},
   "outputs": [],
   "source": []
  },
  {
   "cell_type": "code",
   "execution_count": null,
   "id": "f0eff9b2",
   "metadata": {},
   "outputs": [],
   "source": []
  },
  {
   "cell_type": "code",
   "execution_count": null,
   "id": "e325b314",
   "metadata": {},
   "outputs": [],
   "source": []
  },
  {
   "cell_type": "code",
   "execution_count": null,
   "id": "ba96327e",
   "metadata": {},
   "outputs": [],
   "source": []
  }
 ],
 "metadata": {
  "kernelspec": {
   "display_name": "Python 3",
   "language": "python",
   "name": "python3"
  },
  "language_info": {
   "codemirror_mode": {
    "name": "ipython",
    "version": 3
   },
   "file_extension": ".py",
   "mimetype": "text/x-python",
   "name": "python",
   "nbconvert_exporter": "python",
   "pygments_lexer": "ipython3",
   "version": "3.8.8"
  }
 },
 "nbformat": 4,
 "nbformat_minor": 5
}
