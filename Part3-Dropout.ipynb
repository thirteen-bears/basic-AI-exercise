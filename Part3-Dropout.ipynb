{
 "cells": [
  {
   "cell_type": "markdown",
   "id": "4cb8aadf",
   "metadata": {},
   "source": [
    "### Dropout\n",
    "- 一个好的模型需要对输入数据的扰动robust\n",
    "- 使用有噪音的数据等价于正则 （在输入的时候加入噪音）\n",
    "- dropout：在层之间加入噪音 (也可以视为正则)\n",
    "![avatar](./imgs/13-1.png)\n",
    "- 在dropout前后期望没有发生变化 （为什么要除以（1-p））\n",
    "![avatar](./imgs/13-2.png)\n",
    "- dropout的实现过程：\n",
    "![avatar](./imgs/13-3.png)\n",
    "\n",
    "（注意：只在训练中使用正则项，因为正则项只会影响权重，我们在inference的时候一定不进行正则，以保证输出唯一确定）\n",
    "\n",
    "Hinton提出的那篇paper的解释：其实是训练了很多个小的神经网络，然后进行平均。但是这个解释是有不对的。但是实际我们应该把这个理解成正则项。\n",
    "- dropout的概率是控制模型复杂度的超参数"
   ]
  },
  {
   "cell_type": "code",
   "execution_count": 1,
   "id": "cdd472cc",
   "metadata": {},
   "outputs": [],
   "source": [
    "import torch \n",
    "from torch import nn\n",
    "import d2l"
   ]
  },
  {
   "cell_type": "code",
   "execution_count": null,
   "id": "84da1933",
   "metadata": {},
   "outputs": [],
   "source": []
  },
  {
   "cell_type": "code",
   "execution_count": null,
   "id": "6e684dcb",
   "metadata": {},
   "outputs": [],
   "source": []
  },
  {
   "cell_type": "code",
   "execution_count": null,
   "id": "56beacaf",
   "metadata": {},
   "outputs": [],
   "source": []
  },
  {
   "cell_type": "code",
   "execution_count": null,
   "id": "b3baf48e",
   "metadata": {},
   "outputs": [],
   "source": []
  },
  {
   "cell_type": "code",
   "execution_count": null,
   "id": "cb192d49",
   "metadata": {},
   "outputs": [],
   "source": []
  },
  {
   "cell_type": "code",
   "execution_count": null,
   "id": "23d081ef",
   "metadata": {},
   "outputs": [],
   "source": []
  }
 ],
 "metadata": {
  "kernelspec": {
   "display_name": "Python 3",
   "language": "python",
   "name": "python3"
  },
  "language_info": {
   "codemirror_mode": {
    "name": "ipython",
    "version": 3
   },
   "file_extension": ".py",
   "mimetype": "text/x-python",
   "name": "python",
   "nbconvert_exporter": "python",
   "pygments_lexer": "ipython3",
   "version": "3.8.8"
  }
 },
 "nbformat": 4,
 "nbformat_minor": 5
}
