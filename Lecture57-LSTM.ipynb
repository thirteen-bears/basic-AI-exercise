{
 "cells": [
  {
   "cell_type": "markdown",
   "id": "90f008b1",
   "metadata": {},
   "source": [
    "## LSTM\n",
    "- 忘记门：将值朝0减少\n",
    "- 输入门：决定是不是忽略掉输入数据\n",
    "- 输出门: 决定是不是使用隐状态\n",
    "\n",
    "### 候选记忆单元\n",
    "![](./imgs/57-1.png)"
   ]
  },
  {
   "cell_type": "code",
   "execution_count": null,
   "id": "7ff8ee6d",
   "metadata": {},
   "outputs": [],
   "source": []
  }
 ],
 "metadata": {
  "kernelspec": {
   "display_name": "Python 3",
   "language": "python",
   "name": "python3"
  },
  "language_info": {
   "codemirror_mode": {
    "name": "ipython",
    "version": 3
   },
   "file_extension": ".py",
   "mimetype": "text/x-python",
   "name": "python",
   "nbconvert_exporter": "python",
   "pygments_lexer": "ipython3",
   "version": "3.8.8"
  }
 },
 "nbformat": 4,
 "nbformat_minor": 5
}
