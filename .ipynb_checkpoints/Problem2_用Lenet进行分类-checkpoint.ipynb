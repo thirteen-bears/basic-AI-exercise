{
 "cells": [
  {
   "cell_type": "code",
   "execution_count": 3,
   "id": "dcd4d658",
   "metadata": {},
   "outputs": [],
   "source": [
    "%matplotlib inline\n",
    "import torch\n",
    "import torchvision\n",
    "from torch.utils import data\n",
    "from torchvision import transforms\n",
    "from torch.utils.data import DataLoader\n",
    "from torch import nn\n",
    "import d2l\n",
    "d2l.use_svg_display()\n",
    "import random"
   ]
  },
  {
   "cell_type": "code",
   "execution_count": 4,
   "id": "2a4bb6e1",
   "metadata": {},
   "outputs": [
    {
     "data": {
      "text/plain": [
       "torch.Size([3, 125, 139])"
      ]
     },
     "execution_count": 4,
     "metadata": {},
     "output_type": "execute_result"
    }
   ],
   "source": [
    "transform = transforms.ToTensor()\n",
    "root = '../data/vechicle'\n",
    "orig_set = torchvision.datasets.ImageFolder(root, transform)\n",
    "# 每一类的标签分别为0，1，2\n",
    "#len(data_all),data_all[500],data_all[1],data_all[1000]\n",
    "orig_set[500][0].shape"
   ]
  },
  {
   "cell_type": "code",
   "execution_count": 5,
   "id": "db6e1b01",
   "metadata": {},
   "outputs": [],
   "source": [
    "n = len(orig_set)  # total number of examples\n",
    "n_test = int(0.2 * n)  # take ~10% for test"
   ]
  },
  {
   "cell_type": "code",
   "execution_count": 6,
   "id": "1f95702f",
   "metadata": {},
   "outputs": [],
   "source": [
    "# 使用random_split实现数据集的划分，lengths是一个list，按照对应的数量返回数据个数。\n",
    "# 这儿需要注意的是，lengths的数据量总和等于all_dataset中的数据个数，这儿不是按比例划分的\n",
    "train, test = torch.utils.data.random_split(dataset= orig_set , lengths=[n-n_test, n_test])\n",
    "# 接着按照正常方式使用DataLoader读取数据，返回的是DataLoader对象\n",
    "vechicle_train = torch.utils.data.DataLoader(train, batch_size=3, shuffle=True, num_workers=1)\n",
    "vechicle_test  = torch.utils.data.DataLoader(test,  batch_size=3, shuffle=True, num_workers=1)"
   ]
  },
  {
   "cell_type": "code",
   "execution_count": 7,
   "id": "4b9eeea6",
   "metadata": {},
   "outputs": [],
   "source": [
    "class Reshape(torch.nn.Module):\n",
    "    def forward(self, x):\n",
    "        return x.view(-1, 3, 125, 139)\n",
    "\n",
    "net = torch.nn.Sequential(\n",
    "    Reshape(),\n",
    "    nn.Conv2d(3, 6, kernel_size=5, padding=2), nn.Sigmoid(),\n",
    "    nn.AvgPool2d(kernel_size=2, stride=2),\n",
    "    nn.Conv2d(6, 16, kernel_size=5), nn.Sigmoid(),\n",
    "    nn.AvgPool2d(kernel_size=2, stride=2),\n",
    "    nn.Flatten(),\n",
    "    nn.Linear(14848, 120), nn.Sigmoid(),\n",
    "    #nn.Linear(120, 84), nn.Sigmoid(),\n",
    "    #nn.Linear(84, 3)\n",
    ")"
   ]
  },
  {
   "cell_type": "code",
   "execution_count": null,
   "id": "5af2e231",
   "metadata": {},
   "outputs": [],
   "source": [
    "X = torch.rand(size=(3, 1, 125, 139), dtype=torch.float32)\n",
    "for layer in net:\n",
    "    X = layer(X)\n",
    "    print(layer.__class__.__name__,'output shape: \\t',X.shape)"
   ]
  },
  {
   "cell_type": "code",
   "execution_count": null,
   "id": "1646f54e",
   "metadata": {},
   "outputs": [],
   "source": []
  }
 ],
 "metadata": {
  "kernelspec": {
   "display_name": "Python 3",
   "language": "python",
   "name": "python3"
  },
  "language_info": {
   "codemirror_mode": {
    "name": "ipython",
    "version": 3
   },
   "file_extension": ".py",
   "mimetype": "text/x-python",
   "name": "python",
   "nbconvert_exporter": "python",
   "pygments_lexer": "ipython3",
   "version": "3.8.8"
  }
 },
 "nbformat": 4,
 "nbformat_minor": 5
}
