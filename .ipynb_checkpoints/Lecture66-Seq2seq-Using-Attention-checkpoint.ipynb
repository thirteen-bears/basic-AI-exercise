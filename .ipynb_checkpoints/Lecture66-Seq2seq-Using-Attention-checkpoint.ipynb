{
 "cells": [
  {
   "cell_type": "markdown",
   "id": "e33f8d08",
   "metadata": {},
   "source": [
    "## 动机\n",
    "- 在机器翻译中，每个生成的词可能相关于源句子中的不同词。\n",
    "- seq2seq模型只传入最后一个隐藏状态\n",
    "\n",
    "## 预测 \n",
    "- Encoder RNN(下图左边) 对每个词的输出作为key和value, 放进Attention里\n",
    "- Decoder RNN(下图右边)对上一个词的输出作为query,放进Attention里\n",
    "- Attention的输出(作为context)和下一个次的word embedding合并进入Decoder RNN,得到新的输出\n",
    "![](./imgs/66-1.png)\n",
    "\n",
    "## 总结\n",
    "- Seq2seq通过隐状态在编码器和解码器中传递信息\n",
    "- 注意力机制可以根据解码器RNN的输出来匹配到合适的编码器RNN的输出，从而更有效地传递信息"
   ]
  },
  {
   "cell_type": "code",
   "execution_count": null,
   "id": "e30c719a",
   "metadata": {},
   "outputs": [],
   "source": [
    "## Bahdaau注意力"
   ]
  },
  {
   "cell_type": "code",
   "execution_count": 1,
   "id": "4ff891bc",
   "metadata": {},
   "outputs": [],
   "source": [
    "import torch\n",
    "from torch import nn\n",
    "import d2l"
   ]
  },
  {
   "cell_type": "code",
   "execution_count": null,
   "id": "07a7d5bd",
   "metadata": {},
   "outputs": [],
   "source": [
    "class AttentionDecoder(d2l.Decoder):\n",
    "    \"\"\"带有注意力机制的解码器基本接口\"\"\"\n",
    "    def __init__(self, **kwargs):\n",
    "        super(AttentionDecoder, self).__init__(**kwargs)\n",
    "        \n",
    "    @property\n",
    "    def attention_weights(self):\n",
    "        raise NotImplementedError"
   ]
  },
  {
   "cell_type": "code",
   "execution_count": null,
   "id": "d058cf79",
   "metadata": {},
   "outputs": [],
   "source": []
  }
 ],
 "metadata": {
  "kernelspec": {
   "display_name": "Python 3",
   "language": "python",
   "name": "python3"
  },
  "language_info": {
   "codemirror_mode": {
    "name": "ipython",
    "version": 3
   },
   "file_extension": ".py",
   "mimetype": "text/x-python",
   "name": "python",
   "nbconvert_exporter": "python",
   "pygments_lexer": "ipython3",
   "version": "3.8.8"
  }
 },
 "nbformat": 4,
 "nbformat_minor": 5
}
