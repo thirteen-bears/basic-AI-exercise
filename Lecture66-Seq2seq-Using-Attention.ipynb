{
 "cells": [
  {
   "cell_type": "markdown",
   "id": "e33f8d08",
   "metadata": {},
   "source": [
    "## 动机\n",
    "- 在机器翻译中，每个生成的词可能相关于源句子中的不同词。\n",
    "- seq2seq模型只传入最后一个隐藏状态\n",
    "\n",
    "## 预测 \n",
    "- Encoder RNN(下图左边) 对每个词的输出作为key和value, 放进Attention里\n",
    "- Decoder RNN(下图右边)对上一个词的输出作为query,放进Attention里\n",
    "- Attention的输出(作为context)和下一个次的word embedding合并进入Decoder RNN,得到新的输出\n",
    "![](./imgs/66-1.png)\n",
    "\n",
    "## 总结\n",
    "- Seq2seq通过隐状态在编码器和解码器中传递信息\n",
    "- 注意力机制可以根据解码器RNN的输出来匹配到合适的编码器RNN的输出，从而更有效地传递信息"
   ]
  },
  {
   "cell_type": "code",
   "execution_count": null,
   "id": "e30c719a",
   "metadata": {},
   "outputs": [],
   "source": [
    "## Bahdaau注意力"
   ]
  },
  {
   "cell_type": "code",
   "execution_count": 1,
   "id": "4ff891bc",
   "metadata": {},
   "outputs": [],
   "source": [
    "import torch\n",
    "from torch import nn\n",
    "import d2l"
   ]
  },
  {
   "cell_type": "code",
   "execution_count": null,
   "id": "07a7d5bd",
   "metadata": {},
   "outputs": [],
   "source": [
    "class AttentionDecoder(d2l.Decoder):\n",
    "    \"\"\"带有注意力机制的解码器基本接口\"\"\"\n",
    "    def __init__(self, **kwargs):\n",
    "        super(AttentionDecoder, self).__init__(**kwargs)\n",
    "        \n",
    "    @property\n",
    "    def attention_weights(self):\n",
    "        raise NotImplementedError"
   ]
  },
  {
   "cell_type": "code",
   "execution_count": null,
   "id": "d058cf79",
   "metadata": {},
   "outputs": [],
   "source": [
    "# Decoder里加attention\n",
    "class Seq2SeqAttentionDecoder(AttentionDecoder):\n",
    "    def __init__(self, vocab_size, embed_size, num_hiddens, num_layers,\n",
    "                 dropout=0, **kwargs):\n",
    "        super(Seq2SeqAttentionDecoder, self).__init__(**kwargs)\n",
    "        # 这里用了加性attention\n",
    "        # 虽然key,query,value长度都一致（num_hiddens），但是加性attention可以训练更多的参数\n",
    "        self.attention = d2l.AdditiveAttention(\n",
    "            num_hiddens, num_hiddens, num_hiddens, dropout)\n",
    "        # 这三行不变\n",
    "        self.embedding = nn.Embedding(vocab_size, embed_size)\n",
    "        self.rnn = nn.GRU(\n",
    "            embed_size + num_hiddens, num_hiddens, num_layers,\n",
    "            dropout=dropout)\n",
    "        self.dense = nn.Linear(num_hiddens, vocab_size)\n",
    "    \n",
    "    # 这里多了enc_valid_lens\n",
    "    def init_state(self, enc_outputs, enc_valid_lens, *args):\n",
    "        # `enc_outputs`的形状为 (`batch_size`, `num_steps`, `num_hiddens`).\n",
    "        # `hidden_state[0]`的形状为 (`num_layers`, `batch_size`,\n",
    "        # `num_hiddens`)\n",
    "        outputs, hidden_state = enc_outputs\n",
    "        # (1, 0, 2): batchsize, sentencesize,h\n",
    "        return (outputs.permute(1, 0, 2), hidden_state, enc_valid_lens)\n",
    "\n",
    "    def forward(self, X, state):\n",
    "        # `enc_outputs`的形状为 (`batch_size`, `num_steps`, `num_hiddens`).\n",
    "        # `hidden_state[0]`的形状为 (`num_layers`, `batch_size`,\n",
    "        # `num_hiddens`)\n",
    "        enc_outputs, hidden_state, enc_valid_lens = state\n",
    "        # 输出 `X`的形状为 (`num_steps`, `batch_size`, `embed_size`)\n",
    "        X = self.embedding(X).permute(1, 0, 2)\n",
    "        outputs, self._attention_weights = [], []\n",
    "        # 这里每一步context会变，所以要循环\n",
    "        \n",
    "        for x in X:\n",
    "            # `query`的形状为 (`batch_size`, 1, `num_hiddens`)\n",
    "            #  dim=1是加一个num_of_queries的维度\n",
    "            query = torch.unsqueeze(hidden_state[-1], dim=1) # hidden_state[-1]:上一个时间的rnn的输出\n",
    "            # `context`的形状为 (`batch_size`, 1, `num_hiddens`)\n",
    "              \n",
    "            context = self.attention(\n",
    "                query, enc_outputs, enc_outputs, enc_valid_lens)\n",
    "            # 在特征维度上连结\n",
    "            x = torch.cat((context, torch.unsqueeze(x, dim=1)), dim=-1)\n",
    "            # 将 `x` 变形为 (1, `batch_size`, `embed_size` + `num_hiddens`)\n",
    "            out, hidden_state = self.rnn(x.permute(1, 0, 2), hidden_state)\n",
    "            outputs.append(out)\n",
    "            self._attention_weights.append(self.attention.attention_weights)\n",
    "        # 全连接层变换后， `outputs`的形状为 \n",
    "        # (`num_steps`, `batch_size`, `vocab_size`)\n",
    "        outputs = self.dense(torch.cat(outputs, dim=0))\n",
    "        return outputs.permute(1, 0, 2), [enc_outputs, hidden_state,\n",
    "                                          enc_valid_lens]\n",
    "    \n",
    "    @property\n",
    "    def attention_weights(self):\n",
    "        return self._attention_weights"
   ]
  }
 ],
 "metadata": {
  "kernelspec": {
   "display_name": "Python 3",
   "language": "python",
   "name": "python3"
  },
  "language_info": {
   "codemirror_mode": {
    "name": "ipython",
    "version": 3
   },
   "file_extension": ".py",
   "mimetype": "text/x-python",
   "name": "python",
   "nbconvert_exporter": "python",
   "pygments_lexer": "ipython3",
   "version": "3.8.8"
  }
 },
 "nbformat": 4,
 "nbformat_minor": 5
}
