{
 "cells": [
  {
   "cell_type": "markdown",
   "id": "d07ca4fc",
   "metadata": {},
   "source": [
    "## Deriviration"
   ]
  },
  {
   "cell_type": "markdown",
   "id": "bc0448f7",
   "metadata": {},
   "source": [
    "$y = u+v$ -> $dy/dx = du/dx+dv/dx$"
   ]
  },
  {
   "cell_type": "markdown",
   "id": "b1a0de40",
   "metadata": {},
   "source": [
    "### dy/dx: y为标量，x为列向量时\n",
    "- dy/dx是行向量\n",
    "- 具体理解：y可以做出等高线，dy/dx垂直于等高线的切线\n",
    "- $y = <u,v>$ 时， $dy/dx = u^T * dv/dx+ v^T* du/dx$ "
   ]
  },
  {
   "cell_type": "markdown",
   "id": "6fb6928d",
   "metadata": {},
   "source": [
    "### dy/dx: y为列向量，x为标量时\n",
    "- dy/dx是列向量"
   ]
  },
  {
   "cell_type": "markdown",
   "id": "fc26b3a1",
   "metadata": {},
   "source": [
    "### dy/dx: y为列向量，x为列向量时\n",
    "- 对y的每一个标量，利用“y为标量，x为列向量时”求导，最终拉成一个矩阵。\n",
    "- dy/dx是矩阵\n",
    "- $y = x^T A$时，$dy/dx = A^T$\n",
    "- $ x = R^n, y = R^m$,则 $dy/dx = R^(m*n)$"
   ]
  },
  {
   "cell_type": "markdown",
   "id": "25d1ec01",
   "metadata": {},
   "source": [
    "### 总结\n"
   ]
  },
  {
   "cell_type": "markdown",
   "id": "def6a0ae",
   "metadata": {},
   "source": [
    "### 向量的链式法则\n"
   ]
  },
  {
   "cell_type": "markdown",
   "id": "d410da11",
   "metadata": {},
   "source": [
    "### 总结\n"
   ]
  },
  {
   "cell_type": "markdown",
   "id": "52bb2c5b",
   "metadata": {},
   "source": [
    "### 总结\n"
   ]
  },
  {
   "cell_type": "code",
   "execution_count": null,
   "id": "88fa2edb",
   "metadata": {},
   "outputs": [],
   "source": []
  },
  {
   "cell_type": "code",
   "execution_count": null,
   "id": "77290291",
   "metadata": {},
   "outputs": [],
   "source": []
  },
  {
   "cell_type": "code",
   "execution_count": null,
   "id": "8fb79eda",
   "metadata": {},
   "outputs": [],
   "source": []
  },
  {
   "cell_type": "code",
   "execution_count": null,
   "id": "4275f62a",
   "metadata": {},
   "outputs": [],
   "source": []
  },
  {
   "cell_type": "code",
   "execution_count": null,
   "id": "d82d6586",
   "metadata": {},
   "outputs": [],
   "source": []
  },
  {
   "cell_type": "code",
   "execution_count": null,
   "id": "ddc4a9b8",
   "metadata": {},
   "outputs": [],
   "source": []
  },
  {
   "cell_type": "code",
   "execution_count": null,
   "id": "4bd64694",
   "metadata": {},
   "outputs": [],
   "source": []
  }
 ],
 "metadata": {
  "kernelspec": {
   "display_name": "Python 3",
   "language": "python",
   "name": "python3"
  },
  "language_info": {
   "codemirror_mode": {
    "name": "ipython",
    "version": 3
   },
   "file_extension": ".py",
   "mimetype": "text/x-python",
   "name": "python",
   "nbconvert_exporter": "python",
   "pygments_lexer": "ipython3",
   "version": "3.8.8"
  }
 },
 "nbformat": 4,
 "nbformat_minor": 5
}
