{
 "cells": [
  {
   "cell_type": "markdown",
   "id": "8338a364",
   "metadata": {},
   "source": [
    "## NLP里的迁移学习\n",
    "- 使用预训练好的模型来抽取词、句子的特征:例如word2vec或语言模型\n",
    "- 不更新预训练好的模型\n",
    "- 需要构建新的网络来抓取新任务需要的信息\n",
    "- word2vec忽略了时序信息，语言模型只看了一个方向\n",
    "\n",
    "## BERT的动机\n",
    "- 基于finetune的NLP模型\n",
    "- 预训练的模型抽取了足够多的信息\n",
    "- 新的任务只需要增加一个简单的输出层\n",
    "\n",
    "## Bert的架构\n",
    "- 只有编码器的transformer"
   ]
  },
  {
   "cell_type": "code",
   "execution_count": null,
   "id": "4aa972b0",
   "metadata": {},
   "outputs": [],
   "source": []
  },
  {
   "cell_type": "code",
   "execution_count": null,
   "id": "34c8915c",
   "metadata": {},
   "outputs": [],
   "source": []
  },
  {
   "cell_type": "code",
   "execution_count": null,
   "id": "ba5ed361",
   "metadata": {},
   "outputs": [],
   "source": []
  }
 ],
 "metadata": {
  "kernelspec": {
   "display_name": "Python 3",
   "language": "python",
   "name": "python3"
  },
  "language_info": {
   "codemirror_mode": {
    "name": "ipython",
    "version": 3
   },
   "file_extension": ".py",
   "mimetype": "text/x-python",
   "name": "python",
   "nbconvert_exporter": "python",
   "pygments_lexer": "ipython3",
   "version": "3.8.8"
  }
 },
 "nbformat": 4,
 "nbformat_minor": 5
}
