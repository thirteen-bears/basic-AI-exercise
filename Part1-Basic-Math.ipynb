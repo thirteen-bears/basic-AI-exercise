{
 "cells": [
  {
   "cell_type": "markdown",
   "id": "64f18a59",
   "metadata": {},
   "source": [
    "## Basic Linear Algerithm"
   ]
  },
  {
   "cell_type": "code",
   "execution_count": 1,
   "id": "3d3eed5b",
   "metadata": {},
   "outputs": [
    {
     "data": {
      "text/plain": [
       "tensor([27.])"
      ]
     },
     "execution_count": 1,
     "metadata": {},
     "output_type": "execute_result"
    }
   ],
   "source": [
    "import torch\n",
    "x = torch.tensor([3.0])\n",
    "y = torch.tensor([3.0])\n",
    "x**y"
   ]
  },
  {
   "cell_type": "code",
   "execution_count": 2,
   "id": "4710409e",
   "metadata": {},
   "outputs": [
    {
     "data": {
      "text/plain": [
       "(1, torch.Size([1]))"
      ]
     },
     "execution_count": 2,
     "metadata": {},
     "output_type": "execute_result"
    }
   ],
   "source": [
    "len(x),x.shape"
   ]
  },
  {
   "cell_type": "code",
   "execution_count": 8,
   "id": "c2226d65",
   "metadata": {},
   "outputs": [
    {
     "data": {
      "text/plain": [
       "tensor([[ 0,  1,  2,  3],\n",
       "        [ 4,  5,  6,  7],\n",
       "        [ 8,  9, 10, 11],\n",
       "        [12, 13, 14, 15],\n",
       "        [16, 17, 18, 19]])"
      ]
     },
     "execution_count": 8,
     "metadata": {},
     "output_type": "execute_result"
    }
   ],
   "source": [
    "A =torch.arange(20).reshape(5,4)\n",
    "A"
   ]
  },
  {
   "cell_type": "markdown",
   "id": "b2ca4a2c",
   "metadata": {},
   "source": [
    "## Transpose"
   ]
  },
  {
   "cell_type": "code",
   "execution_count": 5,
   "id": "5af9ea27",
   "metadata": {},
   "outputs": [
    {
     "data": {
      "text/plain": [
       "tensor([[ 0,  4,  8, 12, 16],\n",
       "        [ 1,  5,  9, 13, 17],\n",
       "        [ 2,  6, 10, 14, 18],\n",
       "        [ 3,  7, 11, 15, 19]])"
      ]
     },
     "execution_count": 5,
     "metadata": {},
     "output_type": "execute_result"
    }
   ],
   "source": [
    "A.T # transpose of matrix A"
   ]
  },
  {
   "cell_type": "code",
   "execution_count": 9,
   "id": "2758e615",
   "metadata": {},
   "outputs": [
    {
     "data": {
      "text/plain": [
       "tensor([[[ 0,  1,  2,  3],\n",
       "         [ 4,  5,  6,  7],\n",
       "         [ 8,  9, 10, 11]],\n",
       "\n",
       "        [[12, 13, 14, 15],\n",
       "         [16, 17, 18, 19],\n",
       "         [20, 21, 22, 23]]])"
      ]
     },
     "execution_count": 9,
     "metadata": {},
     "output_type": "execute_result"
    }
   ],
   "source": [
    "X = torch.arange(24).reshape(2,3,4) # 2:h,3:row,4:column\n",
    "X"
   ]
  },
  {
   "cell_type": "markdown",
   "id": "ba5080a6",
   "metadata": {},
   "source": [
    "## Reallocate RAM"
   ]
  },
  {
   "cell_type": "code",
   "execution_count": 55,
   "id": "18be0043",
   "metadata": {},
   "outputs": [
    {
     "data": {
      "text/plain": [
       "(tensor([[ 0.,  2.,  4.,  6.],\n",
       "         [ 8., 10., 12., 14.],\n",
       "         [16., 18., 20., 22.],\n",
       "         [24., 26., 28., 30.],\n",
       "         [32., 34., 36., 38.]]),\n",
       " tensor([[ 0.,  2.,  4.,  6.],\n",
       "         [ 8., 10., 12., 14.],\n",
       "         [16., 18., 20., 22.],\n",
       "         [24., 26., 28., 30.],\n",
       "         [32., 34., 36., 38.]]),\n",
       " 140694011026176,\n",
       " 140694011026176)"
      ]
     },
     "execution_count": 55,
     "metadata": {},
     "output_type": "execute_result"
    }
   ],
   "source": [
    "A =torch.arange(20,dtype = torch.float32).reshape(5,4)\n",
    "C = A # C,A use the same id\n",
    "C+=A\n",
    "C,A,id(C),id(A)"
   ]
  },
  {
   "cell_type": "code",
   "execution_count": 56,
   "id": "6fe9fc1b",
   "metadata": {},
   "outputs": [
    {
     "data": {
      "text/plain": [
       "(tensor([[ 0.,  4.,  8., 12.],\n",
       "         [16., 20., 24., 28.],\n",
       "         [32., 36., 40., 44.],\n",
       "         [48., 52., 56., 60.],\n",
       "         [64., 68., 72., 76.]]),\n",
       " tensor([[ 0.,  2.,  4.,  6.],\n",
       "         [ 8., 10., 12., 14.],\n",
       "         [16., 18., 20., 22.],\n",
       "         [24., 26., 28., 30.],\n",
       "         [32., 34., 36., 38.]]),\n",
       " 140694011050240,\n",
       " 140694011026176)"
      ]
     },
     "execution_count": 56,
     "metadata": {},
     "output_type": "execute_result"
    }
   ],
   "source": [
    "B = A.clone() # reallocate the RAM of A, then B and A will not have any other connection\n",
    "B+=A\n",
    "B,A,id(B),id(A)"
   ]
  },
  {
   "cell_type": "markdown",
   "id": "dd9ce99c",
   "metadata": {},
   "source": [
    "## Multiplication, Sum, Norm"
   ]
  },
  {
   "cell_type": "code",
   "execution_count": 57,
   "id": "64015b10",
   "metadata": {},
   "outputs": [
    {
     "data": {
      "text/plain": [
       "tensor([[   0.,    8.,   32.,   72.],\n",
       "        [ 128.,  200.,  288.,  392.],\n",
       "        [ 512.,  648.,  800.,  968.],\n",
       "        [1152., 1352., 1568., 1800.],\n",
       "        [2048., 2312., 2592., 2888.]])"
      ]
     },
     "execution_count": 57,
     "metadata": {},
     "output_type": "execute_result"
    }
   ],
   "source": [
    "A*B #multiply by element"
   ]
  },
  {
   "cell_type": "code",
   "execution_count": 58,
   "id": "81958a5f",
   "metadata": {},
   "outputs": [
    {
     "data": {
      "text/plain": [
       "(tensor([[[ 2,  3,  4,  5],\n",
       "          [ 6,  7,  8,  9],\n",
       "          [10, 11, 12, 13]],\n",
       " \n",
       "         [[14, 15, 16, 17],\n",
       "          [18, 19, 20, 21],\n",
       "          [22, 23, 24, 25]]]),\n",
       " tensor([[[ 0,  2,  4,  6],\n",
       "          [ 8, 10, 12, 14],\n",
       "          [16, 18, 20, 22]],\n",
       " \n",
       "         [[24, 26, 28, 30],\n",
       "          [32, 34, 36, 38],\n",
       "          [40, 42, 44, 46]]]))"
      ]
     },
     "execution_count": 58,
     "metadata": {},
     "output_type": "execute_result"
    }
   ],
   "source": [
    "a = 2\n",
    "X = torch.arange(24).reshape(2,3,4)\n",
    "a+X,a*X"
   ]
  },
  {
   "cell_type": "code",
   "execution_count": 37,
   "id": "24235869",
   "metadata": {},
   "outputs": [
    {
     "data": {
      "text/plain": [
       "(tensor([[[0.],\n",
       "          [1.]],\n",
       " \n",
       "         [[2.],\n",
       "          [3.]]]),\n",
       " tensor(6.),\n",
       " tensor(1.5000),\n",
       " tensor(1.5000))"
      ]
     },
     "execution_count": 37,
     "metadata": {},
     "output_type": "execute_result"
    }
   ],
   "source": [
    "x=torch.arange(4.0).reshape(2,2,1)\n",
    "# sum is always a scalar regardless of the shape of x\n",
    "# how to calculate mean of X\n",
    "x,x.sum(),x.sum()/x.numel(),x.mean() "
   ]
  },
  {
   "cell_type": "code",
   "execution_count": 60,
   "id": "8f3ef03b",
   "metadata": {},
   "outputs": [
    {
     "data": {
      "text/plain": [
       "(torch.Size([2, 5, 4]), torch.Size([2, 1, 4]), torch.Size([2, 4]))"
      ]
     },
     "execution_count": 60,
     "metadata": {},
     "output_type": "execute_result"
    }
   ],
   "source": [
    "X = torch.arange(40).reshape(2,5,4)\n",
    "# dim = 1: add \"5\" elements together\n",
    "# \"keepdims=True\" we keep the dim as 1, then we can use broadcast mechanism (2,1,4)\n",
    "# \"keepdims=False\" we remove the dim (2,4)\n",
    "sum_X = X.sum(dim=1,keepdims=True)\n",
    "sum_X1 = X.sum(dim=1)\n",
    "X.shape,sum_X.shape,sum_X1.shape"
   ]
  },
  {
   "cell_type": "code",
   "execution_count": 42,
   "id": "39780d11",
   "metadata": {},
   "outputs": [
    {
     "data": {
      "text/plain": [
       "tensor([[[0.0000, 0.0222, 0.0400, 0.0545],\n",
       "         [0.1000, 0.1111, 0.1200, 0.1273],\n",
       "         [0.2000, 0.2000, 0.2000, 0.2000],\n",
       "         [0.3000, 0.2889, 0.2800, 0.2727],\n",
       "         [0.4000, 0.3778, 0.3600, 0.3455]],\n",
       "\n",
       "        [[0.1429, 0.1448, 0.1467, 0.1484],\n",
       "         [0.1714, 0.1724, 0.1733, 0.1742],\n",
       "         [0.2000, 0.2000, 0.2000, 0.2000],\n",
       "         [0.2286, 0.2276, 0.2267, 0.2258],\n",
       "         [0.2571, 0.2552, 0.2533, 0.2516]]])"
      ]
     },
     "execution_count": 42,
     "metadata": {},
     "output_type": "execute_result"
    }
   ],
   "source": [
    "X/sum_X #broadcast mechanism"
   ]
  },
  {
   "cell_type": "code",
   "execution_count": 43,
   "id": "b20dfa9e",
   "metadata": {},
   "outputs": [
    {
     "data": {
      "text/plain": [
       "tensor([[[ 0,  1,  2,  3],\n",
       "         [ 4,  5,  6,  7],\n",
       "         [ 8,  9, 10, 11],\n",
       "         [12, 13, 14, 15],\n",
       "         [16, 17, 18, 19]],\n",
       "\n",
       "        [[20, 22, 24, 26],\n",
       "         [28, 30, 32, 34],\n",
       "         [36, 38, 40, 42],\n",
       "         [44, 46, 48, 50],\n",
       "         [52, 54, 56, 58]]])"
      ]
     },
     "execution_count": 43,
     "metadata": {},
     "output_type": "execute_result"
    }
   ],
   "source": [
    "X.cumsum(axis=0)"
   ]
  },
  {
   "cell_type": "code",
   "execution_count": 45,
   "id": "bd1b03c7",
   "metadata": {},
   "outputs": [
    {
     "data": {
      "text/plain": [
       "(tensor(6.), tensor(6.))"
      ]
     },
     "execution_count": 45,
     "metadata": {},
     "output_type": "execute_result"
    }
   ],
   "source": [
    "# dot multipulation\n",
    "x = torch.ones(4,dtype = torch.float32)\n",
    "y = torch.arange(4,dtype = torch.float32)\n",
    "torch.dot(x,y),(x*y).sum()"
   ]
  },
  {
   "cell_type": "code",
   "execution_count": 49,
   "id": "581d888f",
   "metadata": {},
   "outputs": [
    {
     "data": {
      "text/plain": [
       "(torch.Size([5, 4]), torch.Size([4]), tensor([ 12.,  44.,  76., 108., 140.]))"
      ]
     },
     "execution_count": 49,
     "metadata": {},
     "output_type": "execute_result"
    }
   ],
   "source": [
    "A.shape,x.shape,torch.mv(A,x) #multiply with vector"
   ]
  },
  {
   "cell_type": "code",
   "execution_count": 50,
   "id": "851adf69",
   "metadata": {},
   "outputs": [
    {
     "data": {
      "text/plain": [
       "tensor([[ 12.,  12.,  12.],\n",
       "        [ 44.,  44.,  44.],\n",
       "        [ 76.,  76.,  76.],\n",
       "        [108., 108., 108.],\n",
       "        [140., 140., 140.]])"
      ]
     },
     "execution_count": 50,
     "metadata": {},
     "output_type": "execute_result"
    }
   ],
   "source": [
    "B = torch.ones(4,3)\n",
    "torch.mm(A,B) # matrix multiplication"
   ]
  },
  {
   "cell_type": "code",
   "execution_count": 51,
   "id": "b9af2ea0",
   "metadata": {},
   "outputs": [
    {
     "data": {
      "text/plain": [
       "tensor(5.)"
      ]
     },
     "execution_count": 51,
     "metadata": {},
     "output_type": "execute_result"
    }
   ],
   "source": [
    "U = torch.tensor([4.0,3,0])\n",
    "torch.norm(U) # L2-norm"
   ]
  },
  {
   "cell_type": "code",
   "execution_count": 53,
   "id": "993a509b",
   "metadata": {},
   "outputs": [
    {
     "data": {
      "text/plain": [
       "tensor(6.)"
      ]
     },
     "execution_count": 53,
     "metadata": {},
     "output_type": "execute_result"
    }
   ],
   "source": [
    "torch.norm(torch.ones(4,9)) # square+sqrt"
   ]
  }
 ],
 "metadata": {
  "kernelspec": {
   "display_name": "Python 3",
   "language": "python",
   "name": "python3"
  },
  "language_info": {
   "codemirror_mode": {
    "name": "ipython",
    "version": 3
   },
   "file_extension": ".py",
   "mimetype": "text/x-python",
   "name": "python",
   "nbconvert_exporter": "python",
   "pygments_lexer": "ipython3",
   "version": "3.8.8"
  }
 },
 "nbformat": 4,
 "nbformat_minor": 5
}
